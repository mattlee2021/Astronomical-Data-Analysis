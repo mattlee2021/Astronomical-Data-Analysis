{
 "cells": [
  {
   "cell_type": "code",
   "execution_count": null,
   "metadata": {},
   "outputs": [],
   "source": [
    "import pandas as pd\n",
    "import numpy as np\n",
    "import random\n",
    "import matplotlib.pyplot as plt\n",
    "from scipy.stats import linregress\n",
    "import scipy.stats as stats\n",
    "%matplotlib inline"
   ]
  },
  {
   "cell_type": "code",
   "execution_count": null,
   "metadata": {},
   "outputs": [],
   "source": [
    "dataComets = pd.read_csv(\"comets.csv\")\n",
    "dataAst = pd.read_csv(\"orbits.csv\")"
   ]
  },
  {
   "cell_type": "code",
   "execution_count": null,
   "metadata": {},
   "outputs": [],
   "source": [
    "#Function used to make the size of the asteroid data the same as that of the comet data \n",
    "#in my investigation of eccentricity vs inclination \n",
    "def sameSize(array, nPoints):\n",
    "    count=0\n",
    "    toReturn=[]\n",
    "    while (count<nPoints):\n",
    "        add=np.random.choice(array)\n",
    "        toReturn.append(add)\n",
    "        count+=1\n",
    "    toReturn = np.asarray(toReturn)\n",
    "    return toReturn"
   ]
  },
  {
   "cell_type": "code",
   "execution_count": null,
   "metadata": {
    "scrolled": true
   },
   "outputs": [],
   "source": [
    "#Creating eccentricity and inclination arrays for comets and asteroids to pass into the scatter plot\n",
    "ecComet=dataComets['e'].to_numpy()\n",
    "incComet = dataComets['i (deg)'].to_numpy()\n",
    "ecAstInter=dataAst['Orbit Eccentricity'].to_numpy()\n",
    "ecAst=sameSize(ecAstInter, 160)\n",
    "incAstInter=dataAst['Orbit Inclination (deg)'].to_numpy()\n",
    "incAst=sameSize(incAstInter, 160)"
   ]
  },
  {
   "cell_type": "code",
   "execution_count": null,
   "metadata": {},
   "outputs": [],
   "source": [
    "#Graphing the scatterplot to show how eccentricity and inclination cluster for comets and asteroids\n",
    "plt.scatter(ecComet,incComet, label=\"Comets\", alpha=0.8)\n",
    "plt.scatter(ecAst, incAst, label=\"Asteroids\", alpha=0.4)\n",
    "plt.xlabel(\"Eccentricity\")\n",
    "plt.ylabel(\"Inclination (deg)\")\n",
    "plt.title(\"Eccentricity and Inclination Clusters for Comets and Asteroids\")\n",
    "plt.legend()"
   ]
  },
  {
   "cell_type": "code",
   "execution_count": null,
   "metadata": {},
   "outputs": [],
   "source": [
    "#Creating MOID arrays for comets and asteroids to use in histograms and Monte Carlo Function \n",
    "MOIDComet = dataComets['MOID (AU)'].to_numpy()\n",
    "MOIDAst= dataAst['Minimum Orbit Intersection Distance (AU)'].to_numpy()"
   ]
  },
  {
   "cell_type": "code",
   "execution_count": null,
   "metadata": {},
   "outputs": [],
   "source": [
    "#Monte Carlo Function that returns an array of proportion of dangerous objects (MOID less than .05)\n",
    "def MonteCarlo(array, nPoints, size1):\n",
    "        count=0\n",
    "        toReturn=[]\n",
    "        while (count<nPoints):\n",
    "            add=np.random.choice(array, size=size1)\n",
    "            count1=0\n",
    "            for elem in add: \n",
    "                if elem < .05:\n",
    "                    count1+=1;\n",
    "            toAdd = count1 / size1\n",
    "            toReturn.append(toAdd)\n",
    "            count+=1\n",
    "        toReturn = np.asarray(toReturn)\n",
    "        return toReturn"
   ]
  },
  {
   "cell_type": "code",
   "execution_count": null,
   "metadata": {},
   "outputs": [],
   "source": [
    "#Chose bins=13 by adjusting until the distribution could be seen without any tooth pick shapes\n",
    "#Histogram showing distribution of MOID comets\n",
    "plt.hist(MOIDComet, bins=13)\n",
    "plt.xlabel(\"MOID (AU)\")\n",
    "plt.ylabel(\"Frequency\")\n",
    "plt.title(\"Distribution of MOID Comet\")"
   ]
  },
  {
   "cell_type": "code",
   "execution_count": null,
   "metadata": {},
   "outputs": [],
   "source": [
    "#Histogram showing distribution of MOID comets after running Monte Carlo\n",
    "#Chose bins=20 by adjusting until the distribution could be seen without any tooth pick shapes\n",
    "MCComet = MonteCarlo(MOIDComet, 1000, 1000)\n",
    "plt.hist(MCComet, bins=20)\n",
    "plt.xlabel(\"Proporiton of MOID less than .05\")\n",
    "plt.ylabel(\"Frequency\")\n",
    "plt.title(\"Sampling Distribution of Monte Carlo Simulation for Comet MOID data\")"
   ]
  },
  {
   "cell_type": "code",
   "execution_count": null,
   "metadata": {},
   "outputs": [],
   "source": [
    "#Chose bins=30 by adjusting until the distribution could be seen without any tooth pick shapes\n",
    "#Histogram showing distribution of MOID asteroids\n",
    "plt.hist(MOIDAst, bins=30)\n",
    "plt.xlabel(\"MOID (AU)\")\n",
    "plt.ylabel(\"Frequency\")\n",
    "plt.title(\"Distribution of MOID Asteroid\")\n"
   ]
  },
  {
   "cell_type": "code",
   "execution_count": null,
   "metadata": {
    "scrolled": true
   },
   "outputs": [],
   "source": [
    "#Chose bins=24 by adjusting until the distribution could be seen without any tooth pick shapes\n",
    "#Histogram showing distribution of MOID asteroids after running Monte Carlo \n",
    "MCAst= MonteCarlo(MOIDAst, 1000, 1000)\n",
    "plt.hist(MCAst, bins=24)\n",
    "plt.xlabel(\"Proporiton of MOID less than .05\")\n",
    "plt.ylabel(\"Frequency\")\n",
    "plt.title(\"Sampling Distribution of Monte Carlo Simulation for Asteroid MOID data\")\n"
   ]
  },
  {
   "cell_type": "code",
   "execution_count": null,
   "metadata": {},
   "outputs": [],
   "source": [
    "#Function used to calculate the mean of the outputted Monte Carlo arrays\n",
    "def meanMCPercent(array):\n",
    "    Sum=0\n",
    "    for elt in array:\n",
    "        Sum+=elt\n",
    "    return Sum/len(array) * 100\n",
    "    "
   ]
  },
  {
   "cell_type": "code",
   "execution_count": null,
   "metadata": {},
   "outputs": [],
   "source": [
    "# Returns the percentage of objects that have a MOID less than .05, which is considered high risk for Earth collision\n",
    "# This function is used for the original MOID data (non Monte Carlo data) to return the proportion of dangerous objects\n",
    "def percentDanger(array):\n",
    "    count=0\n",
    "    for elt in array:\n",
    "        if elt < .05:\n",
    "            count+=1\n",
    "    return (count/len(array)) * 100"
   ]
  },
  {
   "cell_type": "code",
   "execution_count": null,
   "metadata": {},
   "outputs": [],
   "source": [
    "print(percentDanger(MOIDAst))\n",
    "print(percentDanger(MOIDComet))"
   ]
  },
  {
   "cell_type": "code",
   "execution_count": null,
   "metadata": {
    "scrolled": true
   },
   "outputs": [],
   "source": [
    "print(meanMCPercent(MCAst))\n",
    "print(meanMCPercent(MCComet))\n"
   ]
  }
 ],
 "metadata": {
  "kernelspec": {
   "display_name": "Python 3",
   "language": "python",
   "name": "python3"
  },
  "language_info": {
   "codemirror_mode": {
    "name": "ipython",
    "version": 3
   },
   "file_extension": ".py",
   "mimetype": "text/x-python",
   "name": "python",
   "nbconvert_exporter": "python",
   "pygments_lexer": "ipython3",
   "version": "3.7.4"
  }
 },
 "nbformat": 4,
 "nbformat_minor": 2
}
