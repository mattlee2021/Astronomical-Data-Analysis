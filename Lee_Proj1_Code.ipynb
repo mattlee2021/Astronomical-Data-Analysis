{
 "cells": [
  {
   "cell_type": "code",
   "execution_count": null,
   "metadata": {},
   "outputs": [],
   "source": [
    "#importing packages used throughout notebook\n",
    "import numpy as np\n",
    "import scipy.optimize as optimization\n",
    "from scipy.stats import linregress\n",
    "import matplotlib.pyplot as plt\n",
    "%matplotlib inline"
   ]
  },
  {
   "cell_type": "code",
   "execution_count": null,
   "metadata": {},
   "outputs": [],
   "source": [
    "#Education funding in nominal dollars in Millions\n",
    "EduFund= np.array([8, 10, 14, 18, 21, 30, 35, 45, 50, 53, 48, 42, 41, 42 ])\n",
    "#NASA Total Funding in nominal dollars in Millions \n",
    "NasaFund=np.array([13881, 14360, 14194, 13636, 13428, 14095, 14405, 14610, 15152, 15602, 15125, 15861,17833, 17782])\n",
    "#Dividing arrays to determine proportion of Education Funding over time in regards to NASA total funding\n",
    "y=EduFund/NasaFund"
   ]
  },
  {
   "cell_type": "code",
   "execution_count": null,
   "metadata": {},
   "outputs": [],
   "source": [
    "# x variable for the time-series analysis graph\n",
    "labelYear = np.array(['96', '97', '98', '99', '00', '01', '02', '03', '04', '05', '06', '07', '08', '09'])\n",
    "\n",
    "# y-values for years '96 - '05 and this data is used in the line of best fit for these years\n",
    "# Also, scaling y1 up by 100 to get data in terms of percentage\n",
    "y1=np.array([0.00057633, 0.00069638, 0.00098633, 0.00132004, 0.0015639, 0.00212841,0.00242971, 0.00308008, 0.00329989, 0.003397])*100\n",
    "# y-values for years '05 - '09 and this data is used in the line of best fit for these years\n",
    " # Also, scaling y2 up by 100 to get data in terms of percentage\n",
    "y2=np.array([0.003397, 0.00317355, 0.002648, 0.00229911, 0.00236194])*100\n",
    "# y- values for years '96 - '09 and this data is used to plot the scatterplot\n",
    "# Also, scaling y3 up by 100 to get data in terms of percentage\n",
    "y3=y*100\n",
    "# these arrays are used in the linear regression and optimization.curve code; these numbers are essentially \n",
    "#place holders for the years which are in Strings. I will pass array x3 and the labelYear into plt.xticks \n",
    "x1=np.arange(0,10)\n",
    "x2=np.arange(9,14)\n",
    "x3=np.arange(0,14)\n",
    "\n",
    "linregress(x1, y1) # Used this function to determine the slope for years '96 - '05\n",
    "linregress(x2,y2) # Used this function to determine the slope for years '05-'09"
   ]
  },
  {
   "cell_type": "code",
   "execution_count": null,
   "metadata": {},
   "outputs": [],
   "source": [
    "def slopefunc(x,sl): #function used in optimization.curve code \n",
    "    return sl*x"
   ]
  },
  {
   "cell_type": "code",
   "execution_count": null,
   "metadata": {},
   "outputs": [],
   "source": [
    "plt.xticks(x3, labelYear) # total ticks for entire x-axis and essentially matching up the number and string arrays\n",
    "fit1 = optimization.curve_fit(slopefunc,x1,y1) #fit1 will return the line of best fit for years '96 - '05\n",
    "plt.plot(x1, slopefunc(x1,fit1[0][0]), color='green', label=\"Slope of increase: .035\" )\n",
    "\n",
    "#this code is used to return the slope and intercept of data from years'05-'09 which is used to plot \n",
    "#the line of best fit for years '05-'09\",\n",
    "slope, intercept, r_value, p_value, std_err = linregress(x2,y2) \n",
    "line = slope*x2+intercept\n",
    "plt.plot(x2, line, color='red', label='Slope of decrease: -.029')\n",
    "#code to show the legend, axes labels, title\n",
    "plt.legend(loc='upper left', frameon=False)\n",
    "plt.xlabel('Fiscal Year')\n",
    "plt.ylabel(\"Education Funding as a % of NASA Total Funding\")\n",
    "plt.title('Funding for NASA Education and Public Outreach Efforts')\n",
    "#plots a scatterplot of all data values from 96 - '09\n",
    "plt.scatter(labelYear,y3)"
   ]
  },
  {
   "cell_type": "markdown",
   "metadata": {},
   "source": [
    "Time-Series graph showing the percentage of NASA total funding that education represents"
   ]
  }
 ],
 "metadata": {
  "kernelspec": {
   "display_name": "Python 3",
   "language": "python",
   "name": "python3"
  },
  "language_info": {
   "codemirror_mode": {
    "name": "ipython",
    "version": 3
   },
   "file_extension": ".py",
   "mimetype": "text/x-python",
   "name": "python",
   "nbconvert_exporter": "python",
   "pygments_lexer": "ipython3",
   "version": "3.7.4"
  }
 },
 "nbformat": 4,
 "nbformat_minor": 2
}
